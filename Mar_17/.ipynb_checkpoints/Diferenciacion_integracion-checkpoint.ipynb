{
 "metadata": {
  "name": "",
  "signature": "sha256:dc0cf655ce32d336db844afe852523444a81ae695ea9361336830abadfbd5e21"
 },
 "nbformat": 3,
 "nbformat_minor": 0,
 "worksheets": [
  {
   "cells": [
    {
     "cell_type": "code",
     "collapsed": false,
     "input": [
      "%pylab inline"
     ],
     "language": "python",
     "metadata": {},
     "outputs": [
      {
       "output_type": "stream",
       "stream": "stdout",
       "text": [
        "Populating the interactive namespace from numpy and matplotlib\n"
       ]
      }
     ],
     "prompt_number": 1
    },
    {
     "cell_type": "markdown",
     "metadata": {},
     "source": [
      "Clase Marzo 17\n",
      "===============\n",
      "Diferenciaci\u00f3n e Integraci\u00f3n\n",
      "----------------------------\n",
      "Nos explica aldo de diferenciaci\u00f3n con l\u00edmties y cosa as\u00ed.  \n"
     ]
    },
    {
     "cell_type": "code",
     "collapsed": false,
     "input": [],
     "language": "python",
     "metadata": {},
     "outputs": []
    }
   ],
   "metadata": {}
  }
 ]
}