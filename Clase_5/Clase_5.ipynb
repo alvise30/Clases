{
 "metadata": {
  "name": ""
 },
 "nbformat": 3,
 "nbformat_minor": 0,
 "worksheets": [
  {
   "cells": [
    {
     "cell_type": "code",
     "collapsed": false,
     "input": [
      "%pylab inline"
     ],
     "language": "python",
     "metadata": {},
     "outputs": [
      {
       "output_type": "stream",
       "stream": "stdout",
       "text": [
        "Populating the interactive namespace from numpy and matplotlib\n"
       ]
      }
     ],
     "prompt_number": 1
    },
    {
     "cell_type": "markdown",
     "metadata": {},
     "source": [
      "#Asignaci\u00f3n de memoria en C\n",
      "03/febrero/2015"
     ]
    },
    {
     "cell_type": "markdown",
     "metadata": {},
     "source": [
      "Hicimos un programa en C. (clase_c.c)\n",
      "Otro porgrama en C. (string_array.c)"
     ]
    }
   ],
   "metadata": {}
  }
 ]
}